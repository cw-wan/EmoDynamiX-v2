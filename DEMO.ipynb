{
 "cells": [
  {
   "cell_type": "code",
   "id": "initial_id",
   "metadata": {
    "collapsed": true,
    "ExecuteTime": {
     "end_time": "2025-01-27T00:35:21.377536Z",
     "start_time": "2025-01-27T00:35:14.120281Z"
    }
   },
   "source": [
    "from EmoDynamiX import EmoDynamiX\n",
    "\n",
    "# Make sure you have downloaded the ESConv checkpoint and the weights of pretrained submodules! (see README.md)\n",
    "\n",
    "# Load full EmoDynamiX\n",
    "model = EmoDynamiX(dataset=\"esconv\",\n",
    "                  checkpoint_path=\"roberta-hg-esconv-preprocessed-checkpoints/checkpoint-2600.pth\")"
   ],
   "outputs": [
    {
     "name": "stderr",
     "output_type": "stream",
     "text": [
      "Some weights of RobertaModel were not initialized from the model checkpoint at roberta-base and are newly initialized: ['roberta.pooler.dense.bias', 'roberta.pooler.dense.weight']\n",
      "You should probably TRAIN this model on a down-stream task to be able to use it for predictions and inference.\n"
     ]
    },
    {
     "name": "stdout",
     "output_type": "stream",
     "text": [
      "Loading SDDP parameters from pre_trained_models/sddp_stac\\pytorch_model.bin\n"
     ]
    },
    {
     "name": "stderr",
     "output_type": "stream",
     "text": [
      "C:\\Users\\admin\\Documents\\Projects\\EmoDynamiX-v2\\modules\\sddp\\sddp.py:28: FutureWarning: You are using `torch.load` with `weights_only=False` (the current default value), which uses the default pickle module implicitly. It is possible to construct malicious pickle data which will execute arbitrary code during unpickling (See https://github.com/pytorch/pytorch/blob/main/SECURITY.md#untrusted-models for more details). In a future release, the default value for `weights_only` will be flipped to `True`. This limits the functions that could be executed during unpickling. Arbitrary objects will no longer be allowed to be loaded via this mode unless they are explicitly allowlisted by the user via `torch.serialization.add_safe_globals`. We recommend you start setting `weights_only=True` for any use case where you don't have full control of the loaded file. Please open an issue on GitHub for any issues related to this experimental feature.\n",
      "  self.model.load_state_dict(torch.load(state_save_path, map_location=torch.device('cpu')), strict=False)\n",
      "Some weights of RobertaModel were not initialized from the model checkpoint at roberta-base and are newly initialized: ['roberta.pooler.dense.bias', 'roberta.pooler.dense.weight']\n",
      "You should probably TRAIN this model on a down-stream task to be able to use it for predictions and inference.\n",
      "C:\\Users\\admin\\Documents\\Projects\\EmoDynamiX-v2\\modules\\erc\\sequential.py:42: FutureWarning: You are using `torch.load` with `weights_only=False` (the current default value), which uses the default pickle module implicitly. It is possible to construct malicious pickle data which will execute arbitrary code during unpickling (See https://github.com/pytorch/pytorch/blob/main/SECURITY.md#untrusted-models for more details). In a future release, the default value for `weights_only` will be flipped to `True`. This limits the functions that could be executed during unpickling. Arbitrary objects will no longer be allowed to be loaded via this mode unless they are explicitly allowlisted by the user via `torch.serialization.add_safe_globals`. We recommend you start setting `weights_only=True` for any use case where you don't have full control of the loaded file. Please open an issue on GitHub for any issues related to this experimental feature.\n",
      "  self.load_state_dict(torch.load(path, map_location=torch.device('cpu')))\n",
      "C:\\Users\\admin\\Documents\\Projects\\EmoDynamiX-v2\\modules\\roberta\\model.py:66: FutureWarning: You are using `torch.load` with `weights_only=False` (the current default value), which uses the default pickle module implicitly. It is possible to construct malicious pickle data which will execute arbitrary code during unpickling (See https://github.com/pytorch/pytorch/blob/main/SECURITY.md#untrusted-models for more details). In a future release, the default value for `weights_only` will be flipped to `True`. This limits the functions that could be executed during unpickling. Arbitrary objects will no longer be allowed to be loaded via this mode unless they are explicitly allowlisted by the user via `torch.serialization.add_safe_globals`. We recommend you start setting `weights_only=True` for any use case where you don't have full control of the loaded file. Please open an issue on GitHub for any issues related to this experimental feature.\n",
      "  self.load_state_dict(torch.load(path, map_location=torch.device('cpu')), strict=False)\n"
     ]
    }
   ],
   "execution_count": 1
  },
  {
   "metadata": {
    "ExecuteTime": {
     "end_time": "2025-01-27T00:35:26.557156Z",
     "start_time": "2025-01-27T00:35:26.216437Z"
    }
   },
   "cell_type": "code",
   "source": [
    "dialog = [\n",
    "    {\n",
    "        'text': \"I don't want to have anything to do with her again.\",\n",
    "        'speaker': 'usr',\n",
    "    },\n",
    "    {\n",
    "        'text': \"Do you feel that her actions and result can be remedied? Or is this such a fundamental break that you cannot reconcile?\",\n",
    "        'speaker': 'sys',\n",
    "        'strategy': 'Question'\n",
    "    },\n",
    "    {\n",
    "        'text': \"I just want to move on with my life.\",\n",
    "        'speaker': 'usr',\n",
    "    },\n",
    "    {\n",
    "        'text': \"Understandable. I would feel similar, in truth.\",\n",
    "        'speaker': 'sys',\n",
    "        'strategy': 'Reflection of feelings'\n",
    "    },\n",
    "    {\n",
    "        'text': \"I don't that I can love her again.\",\n",
    "        'speaker': 'usr',\n",
    "    }\n",
    "]\n",
    "\n",
    "\"\"\"\n",
    "Ground Truth:\n",
    "      {\n",
    "        \"speaker\": \"supporter\",\n",
    "        \"annotation\": {\n",
    "          \"strategy\": \"Affirmation and Reassurance\"\n",
    "        },\n",
    "        \"content\": \"Only you know whether or not if you can look to forgiving and moving forward or if this is such a fundamental break that it is not something you can mend. \"\n",
    "      }\n",
    "\"\"\"\n",
    "\n",
    "output = model.predict(dialog)\n",
    "output[\"next_strategy\"]"
   ],
   "id": "9e8834732d08a560",
   "outputs": [
    {
     "name": "stderr",
     "output_type": "stream",
     "text": [
      "C:\\Users\\admin\\.conda\\envs\\morgan\\Lib\\site-packages\\transformers\\models\\roberta\\modeling_roberta.py:370: UserWarning: 1Torch was not compiled with flash attention. (Triggered internally at C:\\cb\\pytorch_1000000000000\\work\\aten\\src\\ATen\\native\\transformers\\cuda\\sdp_utils.cpp:555.)\n",
      "  attn_output = torch.nn.functional.scaled_dot_product_attention(\n",
      "C:\\Users\\admin\\.conda\\envs\\morgan\\Lib\\site-packages\\torch\\distributions\\distribution.py:55: UserWarning: <class 'torch_struct.distributions.NonProjectiveDependencyCRF'> does not define `arg_constraints`. Please set `arg_constraints = {}` or initialize the distribution with `validate_args=False` to turn off validation.\n",
      "  warnings.warn(\n"
     ]
    },
    {
     "data": {
      "text/plain": [
       "'Affirmation and Reassurance'"
      ]
     },
     "execution_count": 2,
     "metadata": {},
     "output_type": "execute_result"
    }
   ],
   "execution_count": 2
  }
 ],
 "metadata": {
  "kernelspec": {
   "display_name": "Python 3",
   "language": "python",
   "name": "python3"
  },
  "language_info": {
   "codemirror_mode": {
    "name": "ipython",
    "version": 2
   },
   "file_extension": ".py",
   "mimetype": "text/x-python",
   "name": "python",
   "nbconvert_exporter": "python",
   "pygments_lexer": "ipython2",
   "version": "2.7.6"
  }
 },
 "nbformat": 4,
 "nbformat_minor": 5
}
