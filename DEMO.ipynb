{
 "cells": [
  {
   "cell_type": "code",
   "id": "initial_id",
   "metadata": {
    "collapsed": true,
    "ExecuteTime": {
     "end_time": "2025-02-10T01:01:19.899106Z",
     "start_time": "2025-02-10T01:01:16.652232Z"
    }
   },
   "source": [
    "from EmoDynamiX import EmoDynamiX\n",
    "import warnings\n",
    "\n",
    "warnings.simplefilter(action='ignore', category=FutureWarning)\n",
    "warnings.simplefilter(action='ignore', category=UserWarning)\n",
    "\n",
    "# Make sure you have downloaded the ESConv checkpoint and the weights of pretrained submodules! (see README.md)\n",
    "\n",
    "# Load full EmoDynamiX\n",
    "model = EmoDynamiX(dataset=\"esconv\",\n",
    "                  checkpoint_path=\"roberta-hg-esconv-preprocessed-checkpoints/checkpoint-2600.pth\")"
   ],
   "outputs": [
    {
     "name": "stderr",
     "output_type": "stream",
     "text": [
      "Some weights of RobertaModel were not initialized from the model checkpoint at roberta-base and are newly initialized: ['roberta.pooler.dense.bias', 'roberta.pooler.dense.weight']\n",
      "You should probably TRAIN this model on a down-stream task to be able to use it for predictions and inference.\n"
     ]
    },
    {
     "name": "stdout",
     "output_type": "stream",
     "text": [
      "Loading SDDP parameters from pre_trained_models/sddp_stac\\pytorch_model.bin\n"
     ]
    },
    {
     "name": "stderr",
     "output_type": "stream",
     "text": [
      "Some weights of RobertaModel were not initialized from the model checkpoint at roberta-base and are newly initialized: ['roberta.pooler.dense.bias', 'roberta.pooler.dense.weight']\n",
      "You should probably TRAIN this model on a down-stream task to be able to use it for predictions and inference.\n"
     ]
    }
   ],
   "execution_count": 3
  },
  {
   "metadata": {
    "ExecuteTime": {
     "end_time": "2025-02-10T01:01:20.012171Z",
     "start_time": "2025-02-10T01:01:19.904116Z"
    }
   },
   "cell_type": "code",
   "source": [
    "dialog = [\n",
    "    {\n",
    "        'text': \"I don't want to have anything to do with her again.\",\n",
    "        'speaker': 'usr',\n",
    "    },\n",
    "    {\n",
    "        'text': \"Do you feel that her actions and result can be remedied? Or is this such a fundamental break that you cannot reconcile?\",\n",
    "        'speaker': 'sys',\n",
    "        'strategy': 'Question'\n",
    "    },\n",
    "    {\n",
    "        'text': \"I just want to move on with my life.\",\n",
    "        'speaker': 'usr',\n",
    "    },\n",
    "    {\n",
    "        'text': \"Understandable. I would feel similar, in truth.\",\n",
    "        'speaker': 'sys',\n",
    "        'strategy': 'Reflection of feelings'\n",
    "    },\n",
    "    {\n",
    "        'text': \"I don't that I can love her again.\",\n",
    "        'speaker': 'usr',\n",
    "    }\n",
    "]\n",
    "\n",
    "\"\"\"\n",
    "Ground Truth:\n",
    "      {\n",
    "        \"speaker\": \"supporter\",\n",
    "        \"annotation\": {\n",
    "          \"strategy\": \"Affirmation and Reassurance\"\n",
    "        },\n",
    "        \"content\": \"Only you know whether or not if you can look to forgiving and moving forward or if this is such a fundamental break that it is not something you can mend. \"\n",
    "      }\n",
    "\"\"\"\n",
    "\n",
    "output = model.predict(dialog)\n",
    "output[\"next_strategy\"]"
   ],
   "id": "9e8834732d08a560",
   "outputs": [
    {
     "data": {
      "text/plain": [
       "'Affirmation and Reassurance'"
      ]
     },
     "execution_count": 4,
     "metadata": {},
     "output_type": "execute_result"
    }
   ],
   "execution_count": 4
  }
 ],
 "metadata": {
  "kernelspec": {
   "display_name": "Python 3",
   "language": "python",
   "name": "python3"
  },
  "language_info": {
   "codemirror_mode": {
    "name": "ipython",
    "version": 2
   },
   "file_extension": ".py",
   "mimetype": "text/x-python",
   "name": "python",
   "nbconvert_exporter": "python",
   "pygments_lexer": "ipython2",
   "version": "2.7.6"
  }
 },
 "nbformat": 4,
 "nbformat_minor": 5
}
