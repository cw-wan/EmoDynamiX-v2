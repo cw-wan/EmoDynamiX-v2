{
 "cells": [
  {
   "cell_type": "code",
   "id": "initial_id",
   "metadata": {
    "collapsed": true,
    "ExecuteTime": {
     "end_time": "2025-05-15T12:32:37.179061Z",
     "start_time": "2025-05-15T12:32:26.240618Z"
    }
   },
   "source": [
    "from EmoDynamiX import EmoDynamiX\n",
    "import warnings\n",
    "\n",
    "warnings.simplefilter(action='ignore', category=FutureWarning)\n",
    "warnings.simplefilter(action='ignore', category=UserWarning)\n",
    "\n",
    "# Make sure you have downloaded the ESConv checkpoint and the weights of pretrained submodules! (see README.md)\n",
    "\n",
    "# Load full EmoDynamiX\n",
    "model = EmoDynamiX(dataset=\"esconv\",\n",
    "                  checkpoint_path=\"roberta-hg-esconv-preprocessed-checkpoints/checkpoint-2600.pth\")"
   ],
   "outputs": [
    {
     "name": "stderr",
     "output_type": "stream",
     "text": [
      "Some weights of RobertaModel were not initialized from the model checkpoint at roberta-base and are newly initialized: ['roberta.pooler.dense.bias', 'roberta.pooler.dense.weight']\n",
      "You should probably TRAIN this model on a down-stream task to be able to use it for predictions and inference.\n"
     ]
    },
    {
     "name": "stdout",
     "output_type": "stream",
     "text": [
      "Loading SDDP parameters from pre_trained_models/sddp_stac/pytorch_model.bin\n"
     ]
    },
    {
     "name": "stderr",
     "output_type": "stream",
     "text": [
      "Some weights of RobertaModel were not initialized from the model checkpoint at roberta-base and are newly initialized: ['roberta.pooler.dense.bias', 'roberta.pooler.dense.weight']\n",
      "You should probably TRAIN this model on a down-stream task to be able to use it for predictions and inference.\n"
     ]
    }
   ],
   "execution_count": 1
  },
  {
   "metadata": {
    "ExecuteTime": {
     "end_time": "2025-05-15T12:32:41.952997Z",
     "start_time": "2025-05-15T12:32:40.625547Z"
    }
   },
   "cell_type": "code",
   "source": [
    "\"\"\"\n",
    "To comply with the setting of ESConv, make sure your agent strategies in the context are from:\n",
    "{\n",
    "  \"Reflection of feelings\": 0,\n",
    "  \"Self-disclosure\": 1,\n",
    "  \"Question\": 2,\n",
    "  \"Affirmation and Reassurance\": 3,\n",
    "  \"Providing Suggestions\": 4,\n",
    "  \"Restatement or Paraphrasing\": 5,\n",
    "  \"Information\": 6,\n",
    "  \"Others\":7\n",
    "}\n",
    "\"\"\"\n",
    "\n",
    "# Here is an example from ESConv\n",
    "\n",
    "dialog = [\n",
    "    {\n",
    "        'text': \"I don't want to have anything to do with her again.\",\n",
    "        'speaker': 'usr',\n",
    "    },\n",
    "    {\n",
    "        'text': \"Do you feel that her actions and result can be remedied? Or is this such a fundamental break that you cannot reconcile?\",\n",
    "        'speaker': 'sys',\n",
    "        'strategy': 'Question'\n",
    "    },\n",
    "    {\n",
    "        'text': \"I just want to move on with my life.\",\n",
    "        'speaker': 'usr',\n",
    "    },\n",
    "    {\n",
    "        'text': \"Understandable. I would feel similar, in truth.\",\n",
    "        'speaker': 'sys',\n",
    "        'strategy': 'Reflection of feelings'\n",
    "    },\n",
    "    {\n",
    "        'text': \"I don't that I can love her again.\",\n",
    "        'speaker': 'usr',\n",
    "    }\n",
    "]\n",
    "\n",
    "\"\"\"\n",
    "Ground Truth:\n",
    "      {\n",
    "        \"speaker\": \"supporter\",\n",
    "        \"annotation\": {\n",
    "          \"strategy\": \"Affirmation and Reassurance\"\n",
    "        },\n",
    "        \"content\": \"Only you know whether or not if you can look to forgiving and moving forward or if this is such a fundamental break that it is not something you can mend. \"\n",
    "      }\n",
    "\"\"\"\n",
    "\n",
    "output = model.predict(dialog)\n",
    "output[\"next_strategy\"]"
   ],
   "id": "9e8834732d08a560",
   "outputs": [
    {
     "data": {
      "text/plain": [
       "'Affirmation and Reassurance'"
      ]
     },
     "execution_count": 2,
     "metadata": {},
     "output_type": "execute_result"
    }
   ],
   "execution_count": 2
  },
  {
   "metadata": {
    "ExecuteTime": {
     "end_time": "2025-05-15T12:41:50.793806Z",
     "start_time": "2025-05-15T12:41:49.326368Z"
    }
   },
   "cell_type": "code",
   "source": [
    "# Here is another example dialog composed by ChatGPT-4o\n",
    "\n",
    "dialog_2 = [\n",
    "    {\n",
    "        'text': \"I feel like such a failure. They didn’t even give me a real reason.\",\n",
    "        'speaker': 'usr',\n",
    "    },\n",
    "    {\n",
    "        'text': \"It makes sense that you’d feel rejected and confused—being let go without clarity can be deeply unsettling.\",\n",
    "        'speaker': 'sys',\n",
    "        'strategy': 'Reflection of feelings'\n",
    "    },\n",
    "    {\n",
    "        'text': \"I keep replaying the last meeting in my head, trying to figure out what I did wrong.\",\n",
    "        'speaker': 'usr',\n",
    "    },\n",
    "    {\n",
    "        'text': \"Would it help to talk through that meeting together, and see if we can make sense of it?\",\n",
    "        'speaker': 'sys',\n",
    "        'strategy': 'Question'\n",
    "    },\n",
    "    {\n",
    "        'text': \"Maybe... I just want to stop feeling like I deserved it.\",\n",
    "        'speaker': 'usr',\n",
    "    }\n",
    "]\n",
    "\n",
    "\"\"\"\n",
    "Ground Truth written by ChatGPT-4o:\n",
    "    {\n",
    "        'text': \"You deserve compassion, not blame. Being fired doesn't define your worth or your future.\",\n",
    "        'speaker': 'sys',\n",
    "        'strategy': 'Affirmation and Reassurance'\n",
    "    }\n",
    "\"\"\"\n",
    "\n",
    "output_2 = model.predict(dialog_2)\n",
    "output_2[\"next_strategy\"]"
   ],
   "id": "3522e36a5da73434",
   "outputs": [
    {
     "data": {
      "text/plain": [
       "'Affirmation and Reassurance'"
      ]
     },
     "execution_count": 8,
     "metadata": {},
     "output_type": "execute_result"
    }
   ],
   "execution_count": 8
  }
 ],
 "metadata": {
  "kernelspec": {
   "display_name": "Python 3",
   "language": "python",
   "name": "python3"
  },
  "language_info": {
   "codemirror_mode": {
    "name": "ipython",
    "version": 2
   },
   "file_extension": ".py",
   "mimetype": "text/x-python",
   "name": "python",
   "nbconvert_exporter": "python",
   "pygments_lexer": "ipython2",
   "version": "2.7.6"
  }
 },
 "nbformat": 4,
 "nbformat_minor": 5
}
